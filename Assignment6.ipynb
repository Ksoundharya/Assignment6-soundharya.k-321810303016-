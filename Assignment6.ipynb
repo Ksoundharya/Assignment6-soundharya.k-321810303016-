{
 "cells": [
  {
   "cell_type": "markdown",
   "metadata": {},
   "source": [
    "1.generate first N number of fibonacci numbers.take N value from user?"
   ]
  },
  {
   "cell_type": "code",
   "execution_count": 4,
   "metadata": {},
   "outputs": [
    {
     "name": "stdout",
     "output_type": "stream",
     "text": [
      "enter the number7\n",
      "0  \n",
      "1  \n",
      "1  \n",
      "2  \n",
      "3  \n",
      "5  \n",
      "8  \n"
     ]
    }
   ],
   "source": [
    "def Fibonacci(n):\n",
    "    f1=0\n",
    "    f2=1\n",
    "    if n<1:\n",
    "        print(\"incorrect input\")\n",
    "    for i in range(0, n):\n",
    "        print(f1, \" \")\n",
    "        next=f1+f2\n",
    "        f1=f2\n",
    "        f2=next\n",
    "n=int(input(\"enter the number\"))\n",
    "Fibonacci(n)"
   ]
  },
  {
   "cell_type": "markdown",
   "metadata": {},
   "source": [
    "2.display multiplication table of k.take k value from user ex:7x1=7 7x2=14?"
   ]
  },
  {
   "cell_type": "code",
   "execution_count": 19,
   "metadata": {},
   "outputs": [
    {
     "name": "stdout",
     "output_type": "stream",
     "text": [
      "enter the number10\n",
      "10 x 1 = 10\n",
      "10 x 2 = 20\n",
      "10 x 3 = 30\n",
      "10 x 4 = 40\n",
      "10 x 5 = 50\n",
      "10 x 6 = 60\n",
      "10 x 7 = 70\n",
      "10 x 8 = 80\n",
      "10 x 9 = 90\n",
      "10 x 10 = 100\n"
     ]
    }
   ],
   "source": [
    "k=int(input(\"enter the number\"))\n",
    "for i in range(1, 11):\n",
    "   print(k, 'x', i, '=', k*i)"
   ]
  },
  {
   "cell_type": "markdown",
   "metadata": {},
   "source": [
    "3.write a program to find greatest commom divisor(Gcd) or highest commom factor (Hcf)of given two numbers"
   ]
  },
  {
   "cell_type": "code",
   "execution_count": 11,
   "metadata": {},
   "outputs": [
    {
     "name": "stdout",
     "output_type": "stream",
     "text": [
      "enter the first number6\n",
      "enter the second number7\n",
      "GCD of 6 and 7 is 1\n"
     ]
    }
   ],
   "source": [
    "def gcd(a,b):\n",
    "    if(b==0):\n",
    "        return a\n",
    "    return gcd(b, a%b)\n",
    "a=int(input(\"enter the first number\"))\n",
    "b=int(input(\"enter the second number\"))\n",
    "if(gcd(a,b)):    \n",
    "    print('GCD of', a, 'and', b, 'is', gcd(a,b))\n",
    "else:\n",
    "    print('not found')"
   ]
  },
  {
   "cell_type": "markdown",
   "metadata": {},
   "source": [
    "4.write a python program to count the number of even and odd numbers from a series of numbers?"
   ]
  },
  {
   "cell_type": "code",
   "execution_count": 25,
   "metadata": {},
   "outputs": [
    {
     "name": "stdout",
     "output_type": "stream",
     "text": [
      "even number in the list: 3\n",
      "odd number in the list: 3\n"
     ]
    }
   ],
   "source": [
    "list1 =[21,23,24,12,13,18]\n",
    "\n",
    "even, odd =0, 0\n",
    "for num in list1:\n",
    "    \n",
    "    if num % 2 == 0:\n",
    "        even +=1\n",
    "    else:\n",
    "        odd +=1\n",
    "        \n",
    "print(\"even number in the list:\", even)\n",
    "print(\"odd number in the list:\", odd)\n",
    "        "
   ]
  },
  {
   "cell_type": "markdown",
   "metadata": {},
   "source": [
    "5.write a python program that prints all the numbers from o to 6 except 3 and 6?"
   ]
  },
  {
   "cell_type": "code",
   "execution_count": 1,
   "metadata": {},
   "outputs": [
    {
     "name": "stdout",
     "output_type": "stream",
     "text": [
      "0\n",
      "1\n",
      "2\n",
      "4\n",
      "5\n"
     ]
    }
   ],
   "source": [
    "for i in range(0,7):\n",
    "    if(i==3 or i==6):\n",
    "        continue\n",
    "    print(i)   "
   ]
  }
 ],
 "metadata": {
  "kernelspec": {
   "display_name": "Python 3",
   "language": "python",
   "name": "python3"
  },
  "language_info": {
   "codemirror_mode": {
    "name": "ipython",
    "version": 3
   },
   "file_extension": ".py",
   "mimetype": "text/x-python",
   "name": "python",
   "nbconvert_exporter": "python",
   "pygments_lexer": "ipython3",
   "version": "3.7.4"
  }
 },
 "nbformat": 4,
 "nbformat_minor": 2
}
